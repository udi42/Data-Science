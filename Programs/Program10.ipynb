{
 "cells": [
  {
   "cell_type": "code",
   "execution_count": 1,
   "id": "dd90a759",
   "metadata": {},
   "outputs": [],
   "source": [
    "import tensorflow as tf\n",
    "from tensorflow.keras.datasets import mnist\n",
    "from tensorflow.keras.models import Sequential\n",
    "from tensorflow.keras.layers import Conv2D, MaxPooling2D, Flatten, Dense, Dropout\n",
    "from tensorflow.keras.utils import to_categorical"
   ]
  },
  {
   "cell_type": "code",
   "execution_count": 2,
   "id": "027a0700",
   "metadata": {},
   "outputs": [
    {
     "name": "stdout",
     "output_type": "stream",
     "text": [
      "Downloading data from https://storage.googleapis.com/tensorflow/tf-keras-datasets/mnist.npz\n",
      "11490434/11490434 [==============================] - 2s 0us/step\n"
     ]
    }
   ],
   "source": [
    "# MNIST dataset, reshapes the input data, scales it to values between 0 and 1\n",
    "# Converts the labels into one-hot encoded categorical format.\n",
    "(x_train, y_train), (x_test, y_test) = mnist.load_data()\n",
    "x_train = x_train.reshape(x_train.shape[0], 28, 28, 1).astype('float32') / 255\n",
    "x_test = x_test.reshape(x_test.shape[0], 28, 28, 1).astype('float32') / 255\n",
    "y_train = to_categorical(y_train, 10)\n",
    "y_test = to_categorical(y_test, 10)"
   ]
  },
  {
   "cell_type": "code",
   "execution_count": 3,
   "id": "3c8d807e",
   "metadata": {},
   "outputs": [],
   "source": [
    "# Defines a Convolutional Neural Network (CNN) model for image classification\n",
    "# Defines two convolutional layers, max-pooling layers and fully connected layers\n",
    "model = Sequential()\n",
    "model.add(Conv2D(32, kernel_size=(3, 3), activation='relu', input_shape=(28, 28, 1)))\n",
    "model.add(MaxPooling2D(pool_size=(2, 2)))\n",
    "model.add(Conv2D(64, kernel_size=(3, 3), activation='relu'))\n",
    "model.add(MaxPooling2D(pool_size=(2, 2)))\n",
    "model.add(Flatten())\n",
    "model.add(Dense(128, activation='relu'))\n",
    "model.add(Dropout(0.5))\n",
    "model.add(Dense(10, activation='softmax'))"
   ]
  },
  {
   "cell_type": "code",
   "execution_count": 4,
   "id": "bb67aa89",
   "metadata": {},
   "outputs": [],
   "source": [
    "# Configures the model for training as the evaluation metric.\n",
    "model.compile(loss='categorical_crossentropy', optimizer='adam', metrics=['accuracy'])"
   ]
  },
  {
   "cell_type": "code",
   "execution_count": 5,
   "id": "e269c8eb",
   "metadata": {},
   "outputs": [
    {
     "name": "stdout",
     "output_type": "stream",
     "text": [
      "Epoch 1/10\n",
      "469/469 [==============================] - 22s 45ms/step - loss: 0.3112 - accuracy: 0.9049 - val_loss: 0.0622 - val_accuracy: 0.9793\n",
      "Epoch 2/10\n",
      "469/469 [==============================] - 21s 45ms/step - loss: 0.1003 - accuracy: 0.9698 - val_loss: 0.0458 - val_accuracy: 0.9845\n",
      "Epoch 3/10\n",
      "469/469 [==============================] - 27s 57ms/step - loss: 0.0732 - accuracy: 0.9784 - val_loss: 0.0342 - val_accuracy: 0.9882\n",
      "Epoch 4/10\n",
      "469/469 [==============================] - 39s 84ms/step - loss: 0.0600 - accuracy: 0.9816 - val_loss: 0.0329 - val_accuracy: 0.9885\n",
      "Epoch 5/10\n",
      "469/469 [==============================] - 52s 111ms/step - loss: 0.0536 - accuracy: 0.9841 - val_loss: 0.0300 - val_accuracy: 0.9897\n",
      "Epoch 6/10\n",
      "469/469 [==============================] - 53s 114ms/step - loss: 0.0426 - accuracy: 0.9877 - val_loss: 0.0259 - val_accuracy: 0.9912\n",
      "Epoch 7/10\n",
      "469/469 [==============================] - 49s 104ms/step - loss: 0.0400 - accuracy: 0.9881 - val_loss: 0.0246 - val_accuracy: 0.9923\n",
      "Epoch 8/10\n",
      "469/469 [==============================] - 60s 128ms/step - loss: 0.0343 - accuracy: 0.9892 - val_loss: 0.0290 - val_accuracy: 0.9906\n",
      "Epoch 9/10\n",
      "469/469 [==============================] - 69s 147ms/step - loss: 0.0314 - accuracy: 0.9900 - val_loss: 0.0221 - val_accuracy: 0.9931\n",
      "Epoch 10/10\n",
      "469/469 [==============================] - 55s 117ms/step - loss: 0.0277 - accuracy: 0.9913 - val_loss: 0.0251 - val_accuracy: 0.9917\n"
     ]
    },
    {
     "data": {
      "text/plain": [
       "<keras.src.callbacks.History at 0x18581470190>"
      ]
     },
     "execution_count": 5,
     "metadata": {},
     "output_type": "execute_result"
    }
   ],
   "source": [
    "# Trains the defined model on the training data using batches of size 128 for 10 epochs, with verbose output\n",
    "# Validates the model's performance on the test data (`x_test` and `y_test`).\n",
    "model.fit(x_train, y_train, batch_size=128, epochs=10, verbose=1, validation_data=(x_test, y_test))"
   ]
  },
  {
   "cell_type": "code",
   "execution_count": 6,
   "id": "d43a97b6",
   "metadata": {},
   "outputs": [
    {
     "name": "stdout",
     "output_type": "stream",
     "text": [
      "Test accuracy: 99.16999936103821%\n"
     ]
    }
   ],
   "source": [
    "# Evaluates the trained model's accuracy on the test data.\n",
    "accuracy = model.evaluate(x_test, y_test, verbose=0)\n",
    "print(f'Test accuracy: {accuracy[1]*100}%')"
   ]
  },
  {
   "cell_type": "code",
   "execution_count": 7,
   "id": "4e7947d9",
   "metadata": {},
   "outputs": [],
   "source": [
    "# The code loads the MNIST dataset and assigns the training and testing data to the variables.\n",
    "(trainX, trainy), (testX, testy) = mnist.load_data()"
   ]
  },
  {
   "cell_type": "code",
   "execution_count": 8,
   "id": "32acf96a",
   "metadata": {},
   "outputs": [
    {
     "name": "stdout",
     "output_type": "stream",
     "text": [
      "Train: X=(60000, 28, 28), y=(60000,)\n",
      "Test: X=(10000, 28, 28), y=(10000,)\n"
     ]
    }
   ],
   "source": [
    "print('Train: X=%s, y=%s' % (trainX.shape, trainy.shape))\n",
    "print('Test: X=%s, y=%s' % (testX.shape, testy.shape))"
   ]
  },
  {
   "cell_type": "code",
   "execution_count": 9,
   "id": "c4a69989",
   "metadata": {},
   "outputs": [
    {
     "data": {
      "image/png": "[encoded data removed]",
      "text/plain": [
       "<Figure size 640x480 with 6 Axes>"
      ]
     },
     "metadata": {},
     "output_type": "display_data"
    }
   ],
   "source": [
    "# Displays the first six images from the MNIST training dataset.\n",
    "import matplotlib.pyplot as plt\n",
    "for i in range(6):\n",
    "    plt.subplot(330 + 1 + i)\n",
    "    plt.imshow(trainX[i], cmap=plt.get_cmap('gray'))\n",
    "plt.show()"
   ]
  },
  {
   "cell_type": "code",
   "execution_count": null,
   "id": "d0a4778b",
   "metadata": {},
   "outputs": [],
   "source": []
  }
 ],
 "metadata": {
  "kernelspec": {
   "display_name": "Python 3 (ipykernel)",
   "language": "python",
   "name": "python3"
  },
  "language_info": {
   "codemirror_mode": {
    "name": "ipython",
    "version": 3
   },
   "file_extension": ".py",
   "mimetype": "text/x-python",
   "name": "python",
   "nbconvert_exporter": "python",
   "pygments_lexer": "ipython3",
   "version": "3.11.2"
  }
 },
 "nbformat": 4,
 "nbformat_minor": 5
}
