{
 "cells": [
  {
   "cell_type": "code",
   "execution_count": 1,
   "id": "58fa9e4d",
   "metadata": {},
   "outputs": [],
   "source": [
    "# Import libraries\n",
    "import seaborn as sns\n",
    "import pandas as pd\n",
    "import matplotlib.pyplot as plt\n",
    "%matplotlib inline\n",
    "from sklearn.model_selection import train_test_split\n",
    "from sklearn.ensemble import RandomForestClassifier\n",
    "from sklearn.metrics import accuracy_score, confusion_matrix, classification_report"
   ]
  },
  {
   "cell_type": "code",
   "execution_count": 4,
   "id": "a2144b32",
   "metadata": {},
   "outputs": [],
   "source": [
    "df = pd.read_excel('C:/Users/udith_/Downloads/random_forest_dataset.xlsx')"
   ]
  },
  {
   "cell_type": "code",
   "execution_count": 5,
   "id": "001e7b57",
   "metadata": {},
   "outputs": [
    {
     "data": {
      "text/plain": [
       "(118, 15)"
      ]
     },
     "execution_count": 5,
     "metadata": {},
     "output_type": "execute_result"
    }
   ],
   "source": [
    "# Identify the dimension of dataset\n",
    "df.shape"
   ]
  },
  {
   "cell_type": "code",
   "execution_count": 6,
   "id": "0f132e7f",
   "metadata": {},
   "outputs": [
    {
     "data": {
      "text/html": [
       "<div>\n",
       "<style scoped>\n",
       "    .dataframe tbody tr th:only-of-type {\n",
       "        vertical-align: middle;\n",
       "    }\n",
       "\n",
       "    .dataframe tbody tr th {\n",
       "        vertical-align: top;\n",
       "    }\n",
       "\n",
       "    .dataframe thead th {\n",
       "        text-align: right;\n",
       "    }\n",
       "</style>\n",
       "<table border=\"1\" class=\"dataframe\">\n",
       "  <thead>\n",
       "    <tr style=\"text-align: right;\">\n",
       "      <th></th>\n",
       "      <th>Unnamed: 0</th>\n",
       "      <th>Unnamed: 1</th>\n",
       "      <th>Unnamed: 2</th>\n",
       "      <th>Unnamed: 3</th>\n",
       "      <th>Unnamed: 4</th>\n",
       "      <th>Unnamed: 5</th>\n",
       "      <th>Unnamed: 6</th>\n",
       "      <th>Unnamed: 7</th>\n",
       "      <th>Unnamed: 8</th>\n",
       "      <th>Unnamed: 9</th>\n",
       "      <th>Unnamed: 10</th>\n",
       "      <th>Unnamed: 11</th>\n",
       "      <th>Unnamed: 12</th>\n",
       "      <th>Unnamed: 13</th>\n",
       "      <th>Unnamed: 14</th>\n",
       "    </tr>\n",
       "  </thead>\n",
       "  <tbody>\n",
       "    <tr>\n",
       "      <th>count</th>\n",
       "      <td>118</td>\n",
       "      <td>118</td>\n",
       "      <td>118</td>\n",
       "      <td>117</td>\n",
       "      <td>118</td>\n",
       "      <td>118.0</td>\n",
       "      <td>118</td>\n",
       "      <td>118</td>\n",
       "      <td>118</td>\n",
       "      <td>118.0</td>\n",
       "      <td>110</td>\n",
       "      <td>110</td>\n",
       "      <td>118</td>\n",
       "      <td>118</td>\n",
       "      <td>110</td>\n",
       "    </tr>\n",
       "    <tr>\n",
       "      <th>unique</th>\n",
       "      <td>118</td>\n",
       "      <td>118</td>\n",
       "      <td>118</td>\n",
       "      <td>116</td>\n",
       "      <td>30</td>\n",
       "      <td>30.0</td>\n",
       "      <td>28</td>\n",
       "      <td>29</td>\n",
       "      <td>27</td>\n",
       "      <td>28.0</td>\n",
       "      <td>7</td>\n",
       "      <td>7</td>\n",
       "      <td>45</td>\n",
       "      <td>66</td>\n",
       "      <td>5</td>\n",
       "    </tr>\n",
       "    <tr>\n",
       "      <th>top</th>\n",
       "      <td>Sl No</td>\n",
       "      <td>USN</td>\n",
       "      <td>Name</td>\n",
       "      <td>Development of Streamlined Data Storage Process</td>\n",
       "      <td>91</td>\n",
       "      <td>18.2</td>\n",
       "      <td>80</td>\n",
       "      <td>32</td>\n",
       "      <td>94</td>\n",
       "      <td>18.8</td>\n",
       "      <td>14</td>\n",
       "      <td>4</td>\n",
       "      <td>0</td>\n",
       "      <td>0</td>\n",
       "      <td>A</td>\n",
       "    </tr>\n",
       "    <tr>\n",
       "      <th>freq</th>\n",
       "      <td>1</td>\n",
       "      <td>1</td>\n",
       "      <td>1</td>\n",
       "      <td>2</td>\n",
       "      <td>12</td>\n",
       "      <td>12.0</td>\n",
       "      <td>13</td>\n",
       "      <td>13</td>\n",
       "      <td>12</td>\n",
       "      <td>12.0</td>\n",
       "      <td>38</td>\n",
       "      <td>43</td>\n",
       "      <td>8</td>\n",
       "      <td>8</td>\n",
       "      <td>48</td>\n",
       "    </tr>\n",
       "  </tbody>\n",
       "</table>\n",
       "</div>"
      ],
      "text/plain": [
       "       Unnamed: 0 Unnamed: 1 Unnamed: 2  \\\n",
       "count         118        118        118   \n",
       "unique        118        118        118   \n",
       "top        Sl No        USN       Name    \n",
       "freq            1          1          1   \n",
       "\n",
       "                                             Unnamed: 3  Unnamed: 4  \\\n",
       "count                                               117         118   \n",
       "unique                                              116          30   \n",
       "top     Development of Streamlined Data Storage Process          91   \n",
       "freq                                                  2          12   \n",
       "\n",
       "        Unnamed: 5  Unnamed: 6  Unnamed: 7  Unnamed: 8  Unnamed: 9  \\\n",
       "count        118.0         118         118         118       118.0   \n",
       "unique        30.0          28          29          27        28.0   \n",
       "top           18.2          80          32          94        18.8   \n",
       "freq          12.0          13          13          12        12.0   \n",
       "\n",
       "        Unnamed: 10  Unnamed: 11  Unnamed: 12  Unnamed: 13 Unnamed: 14  \n",
       "count           110          110          118          118         110  \n",
       "unique            7            7           45           66           5  \n",
       "top              14            4            0            0           A  \n",
       "freq             38           43            8            8          48  "
      ]
     },
     "execution_count": 6,
     "metadata": {},
     "output_type": "execute_result"
    }
   ],
   "source": [
    "# Identify the summary of dataset\n",
    "df.describe()"
   ]
  },
  {
   "cell_type": "code",
   "execution_count": 7,
   "id": "d7468d04",
   "metadata": {},
   "outputs": [
    {
     "data": {
      "text/html": [
       "<div>\n",
       "<style scoped>\n",
       "    .dataframe tbody tr th:only-of-type {\n",
       "        vertical-align: middle;\n",
       "    }\n",
       "\n",
       "    .dataframe tbody tr th {\n",
       "        vertical-align: top;\n",
       "    }\n",
       "\n",
       "    .dataframe thead th {\n",
       "        text-align: right;\n",
       "    }\n",
       "</style>\n",
       "<table border=\"1\" class=\"dataframe\">\n",
       "  <thead>\n",
       "    <tr style=\"text-align: right;\">\n",
       "      <th></th>\n",
       "      <th>Unnamed: 0</th>\n",
       "      <th>Unnamed: 1</th>\n",
       "      <th>Unnamed: 2</th>\n",
       "      <th>Unnamed: 3</th>\n",
       "      <th>Unnamed: 4</th>\n",
       "      <th>Unnamed: 5</th>\n",
       "      <th>Unnamed: 6</th>\n",
       "      <th>Unnamed: 7</th>\n",
       "      <th>Unnamed: 8</th>\n",
       "      <th>Unnamed: 9</th>\n",
       "      <th>Unnamed: 10</th>\n",
       "      <th>Unnamed: 11</th>\n",
       "      <th>Unnamed: 12</th>\n",
       "      <th>Unnamed: 13</th>\n",
       "      <th>Unnamed: 14</th>\n",
       "    </tr>\n",
       "  </thead>\n",
       "  <tbody>\n",
       "    <tr>\n",
       "      <th>1</th>\n",
       "      <td>1</td>\n",
       "      <td>1RV21MC001</td>\n",
       "      <td>ABHISHEK M</td>\n",
       "      <td>Generative AI Prompt Pipeline</td>\n",
       "      <td>78</td>\n",
       "      <td>15.6</td>\n",
       "      <td>85</td>\n",
       "      <td>34</td>\n",
       "      <td>93</td>\n",
       "      <td>18.6</td>\n",
       "      <td>13</td>\n",
       "      <td>4</td>\n",
       "      <td>35.6</td>\n",
       "      <td>85.2</td>\n",
       "      <td>A</td>\n",
       "    </tr>\n",
       "    <tr>\n",
       "      <th>2</th>\n",
       "      <td>2</td>\n",
       "      <td>1RV21MC002</td>\n",
       "      <td>ABHISHEK RANJANAGOUDA G</td>\n",
       "      <td>Android based Smart Vehicle Parking System usi...</td>\n",
       "      <td>84</td>\n",
       "      <td>16.8</td>\n",
       "      <td>82</td>\n",
       "      <td>32.8</td>\n",
       "      <td>77</td>\n",
       "      <td>15.4</td>\n",
       "      <td>15</td>\n",
       "      <td>5</td>\n",
       "      <td>35.4</td>\n",
       "      <td>85</td>\n",
       "      <td>A</td>\n",
       "    </tr>\n",
       "    <tr>\n",
       "      <th>3</th>\n",
       "      <td>3</td>\n",
       "      <td>1RV21MC003</td>\n",
       "      <td>ADARSH V MORYE</td>\n",
       "      <td>Sentimental Analysis for product ratings</td>\n",
       "      <td>84</td>\n",
       "      <td>16.8</td>\n",
       "      <td>82</td>\n",
       "      <td>32.8</td>\n",
       "      <td>88</td>\n",
       "      <td>17.6</td>\n",
       "      <td>13</td>\n",
       "      <td>1</td>\n",
       "      <td>31.6</td>\n",
       "      <td>81.2</td>\n",
       "      <td>A</td>\n",
       "    </tr>\n",
       "    <tr>\n",
       "      <th>4</th>\n",
       "      <td>4</td>\n",
       "      <td>1RV21MC004</td>\n",
       "      <td>AISHWARYA K KAMBLE</td>\n",
       "      <td>Analysis and Deployment of an efficient Deep L...</td>\n",
       "      <td>88</td>\n",
       "      <td>17.6</td>\n",
       "      <td>85</td>\n",
       "      <td>34</td>\n",
       "      <td>96</td>\n",
       "      <td>19.2</td>\n",
       "      <td>13</td>\n",
       "      <td>4</td>\n",
       "      <td>36.2</td>\n",
       "      <td>87.8</td>\n",
       "      <td>A</td>\n",
       "    </tr>\n",
       "    <tr>\n",
       "      <th>5</th>\n",
       "      <td>5</td>\n",
       "      <td>1RV21MC005</td>\n",
       "      <td>AISHWARYA NAGARAJ BABALESHWAR</td>\n",
       "      <td>Development of Deep Learning Model for Varied ...</td>\n",
       "      <td>84</td>\n",
       "      <td>16.8</td>\n",
       "      <td>82</td>\n",
       "      <td>32.8</td>\n",
       "      <td>77</td>\n",
       "      <td>15.4</td>\n",
       "      <td>15</td>\n",
       "      <td>5</td>\n",
       "      <td>35.4</td>\n",
       "      <td>85</td>\n",
       "      <td>A</td>\n",
       "    </tr>\n",
       "    <tr>\n",
       "      <th>...</th>\n",
       "      <td>...</td>\n",
       "      <td>...</td>\n",
       "      <td>...</td>\n",
       "      <td>...</td>\n",
       "      <td>...</td>\n",
       "      <td>...</td>\n",
       "      <td>...</td>\n",
       "      <td>...</td>\n",
       "      <td>...</td>\n",
       "      <td>...</td>\n",
       "      <td>...</td>\n",
       "      <td>...</td>\n",
       "      <td>...</td>\n",
       "      <td>...</td>\n",
       "      <td>...</td>\n",
       "    </tr>\n",
       "    <tr>\n",
       "      <th>113</th>\n",
       "      <td>114</td>\n",
       "      <td>1RV21MC119</td>\n",
       "      <td>Y S KIRAN KUMAR</td>\n",
       "      <td>Text Summarization Using NLP</td>\n",
       "      <td>92</td>\n",
       "      <td>18.4</td>\n",
       "      <td>90</td>\n",
       "      <td>36</td>\n",
       "      <td>94</td>\n",
       "      <td>18.8</td>\n",
       "      <td>13</td>\n",
       "      <td>4</td>\n",
       "      <td>35.8</td>\n",
       "      <td>90.2</td>\n",
       "      <td>S</td>\n",
       "    </tr>\n",
       "    <tr>\n",
       "      <th>114</th>\n",
       "      <td>115</td>\n",
       "      <td>1RV21MC120</td>\n",
       "      <td>YATHISH L</td>\n",
       "      <td>Immersive Virtual Reality walkthrough of MCA D...</td>\n",
       "      <td>100</td>\n",
       "      <td>20</td>\n",
       "      <td>100</td>\n",
       "      <td>40</td>\n",
       "      <td>100</td>\n",
       "      <td>20</td>\n",
       "      <td>15</td>\n",
       "      <td>5</td>\n",
       "      <td>40</td>\n",
       "      <td>100</td>\n",
       "      <td>S</td>\n",
       "    </tr>\n",
       "    <tr>\n",
       "      <th>115</th>\n",
       "      <td>116</td>\n",
       "      <td>1RV20MC031</td>\n",
       "      <td>KAVITHA M</td>\n",
       "      <td>IoT - Gateway dashboard for Greenhouse Automat...</td>\n",
       "      <td>87</td>\n",
       "      <td>17.4</td>\n",
       "      <td>92</td>\n",
       "      <td>36.8</td>\n",
       "      <td>92</td>\n",
       "      <td>18.4</td>\n",
       "      <td>14</td>\n",
       "      <td>5</td>\n",
       "      <td>37.4</td>\n",
       "      <td>91.6</td>\n",
       "      <td>S</td>\n",
       "    </tr>\n",
       "    <tr>\n",
       "      <th>116</th>\n",
       "      <td>117</td>\n",
       "      <td>1RD19MCA38</td>\n",
       "      <td>VIVEK KUMAR</td>\n",
       "      <td>Face  Attendance System With Real Time Database</td>\n",
       "      <td>0</td>\n",
       "      <td>0</td>\n",
       "      <td>0</td>\n",
       "      <td>0</td>\n",
       "      <td>0</td>\n",
       "      <td>0</td>\n",
       "      <td>NaN</td>\n",
       "      <td>NaN</td>\n",
       "      <td>0</td>\n",
       "      <td>0</td>\n",
       "      <td>NaN</td>\n",
       "    </tr>\n",
       "    <tr>\n",
       "      <th>117</th>\n",
       "      <td>118</td>\n",
       "      <td>1RZ19MCA01</td>\n",
       "      <td>KIRAN N T</td>\n",
       "      <td>Product Recommendation Using Sentiment Analysis</td>\n",
       "      <td>77</td>\n",
       "      <td>15.4</td>\n",
       "      <td>80</td>\n",
       "      <td>32</td>\n",
       "      <td>81</td>\n",
       "      <td>16.2</td>\n",
       "      <td>12</td>\n",
       "      <td>0</td>\n",
       "      <td>28.2</td>\n",
       "      <td>75.6</td>\n",
       "      <td>B</td>\n",
       "    </tr>\n",
       "  </tbody>\n",
       "</table>\n",
       "<p>117 rows × 15 columns</p>\n",
       "</div>"
      ],
      "text/plain": [
       "    Unnamed: 0  Unnamed: 1                     Unnamed: 2  \\\n",
       "1            1  1RV21MC001                     ABHISHEK M   \n",
       "2            2  1RV21MC002        ABHISHEK RANJANAGOUDA G   \n",
       "3            3  1RV21MC003                 ADARSH V MORYE   \n",
       "4            4  1RV21MC004             AISHWARYA K KAMBLE   \n",
       "5            5  1RV21MC005  AISHWARYA NAGARAJ BABALESHWAR   \n",
       "..         ...         ...                            ...   \n",
       "113        114  1RV21MC119                Y S KIRAN KUMAR   \n",
       "114        115  1RV21MC120                      YATHISH L   \n",
       "115        116  1RV20MC031                      KAVITHA M   \n",
       "116        117  1RD19MCA38                    VIVEK KUMAR   \n",
       "117        118  1RZ19MCA01                      KIRAN N T   \n",
       "\n",
       "                                            Unnamed: 3 Unnamed: 4 Unnamed: 5  \\\n",
       "1                        Generative AI Prompt Pipeline         78       15.6   \n",
       "2    Android based Smart Vehicle Parking System usi...         84       16.8   \n",
       "3            Sentimental Analysis for product ratings          84       16.8   \n",
       "4    Analysis and Deployment of an efficient Deep L...         88       17.6   \n",
       "5    Development of Deep Learning Model for Varied ...         84       16.8   \n",
       "..                                                 ...        ...        ...   \n",
       "113                      Text Summarization Using NLP          92       18.4   \n",
       "114  Immersive Virtual Reality walkthrough of MCA D...        100         20   \n",
       "115  IoT - Gateway dashboard for Greenhouse Automat...         87       17.4   \n",
       "116    Face  Attendance System With Real Time Database          0          0   \n",
       "117   Product Recommendation Using Sentiment Analysis          77       15.4   \n",
       "\n",
       "    Unnamed: 6 Unnamed: 7 Unnamed: 8 Unnamed: 9 Unnamed: 10 Unnamed: 11  \\\n",
       "1           85         34         93       18.6          13           4   \n",
       "2           82       32.8         77       15.4          15           5   \n",
       "3           82       32.8         88       17.6          13           1   \n",
       "4           85         34         96       19.2          13           4   \n",
       "5           82       32.8         77       15.4          15           5   \n",
       "..         ...        ...        ...        ...         ...         ...   \n",
       "113         90         36         94       18.8          13           4   \n",
       "114        100         40        100         20          15           5   \n",
       "115         92       36.8         92       18.4          14           5   \n",
       "116          0          0          0          0         NaN         NaN   \n",
       "117         80         32         81       16.2          12           0   \n",
       "\n",
       "    Unnamed: 12 Unnamed: 13 Unnamed: 14  \n",
       "1          35.6        85.2           A  \n",
       "2          35.4          85           A  \n",
       "3          31.6        81.2           A  \n",
       "4          36.2        87.8           A  \n",
       "5          35.4          85           A  \n",
       "..          ...         ...         ...  \n",
       "113        35.8        90.2           S  \n",
       "114          40         100           S  \n",
       "115        37.4        91.6           S  \n",
       "116           0           0         NaN  \n",
       "117        28.2        75.6           B  \n",
       "\n",
       "[117 rows x 15 columns]"
      ]
     },
     "execution_count": 7,
     "metadata": {},
     "output_type": "execute_result"
    }
   ],
   "source": [
    "# Drop axis 0\n",
    "df.drop(0, axis=0)"
   ]
  },
  {
   "cell_type": "code",
   "execution_count": 8,
   "id": "6e44059b",
   "metadata": {},
   "outputs": [
    {
     "data": {
      "text/plain": [
       "Unnamed: 0     0\n",
       "Unnamed: 1     0\n",
       "Unnamed: 2     0\n",
       "Unnamed: 3     1\n",
       "Unnamed: 4     0\n",
       "Unnamed: 5     0\n",
       "Unnamed: 6     0\n",
       "Unnamed: 7     0\n",
       "Unnamed: 8     0\n",
       "Unnamed: 9     0\n",
       "Unnamed: 10    8\n",
       "Unnamed: 11    8\n",
       "Unnamed: 12    0\n",
       "Unnamed: 13    0\n",
       "Unnamed: 14    8\n",
       "dtype: int64"
      ]
     },
     "execution_count": 8,
     "metadata": {},
     "output_type": "execute_result"
    }
   ],
   "source": [
    "# To find the null values\n",
    "df.isna().sum()"
   ]
  },
  {
   "cell_type": "code",
   "execution_count": 9,
   "id": "33992cbc",
   "metadata": {},
   "outputs": [],
   "source": [
    "# Drop null values\n",
    "df = df.dropna()"
   ]
  },
  {
   "cell_type": "code",
   "execution_count": 10,
   "id": "37351c3c",
   "metadata": {},
   "outputs": [
    {
     "data": {
      "text/plain": [
       "Unnamed: 0     0\n",
       "Unnamed: 1     0\n",
       "Unnamed: 2     0\n",
       "Unnamed: 3     0\n",
       "Unnamed: 4     0\n",
       "Unnamed: 5     0\n",
       "Unnamed: 6     0\n",
       "Unnamed: 7     0\n",
       "Unnamed: 8     0\n",
       "Unnamed: 9     0\n",
       "Unnamed: 10    0\n",
       "Unnamed: 11    0\n",
       "Unnamed: 12    0\n",
       "Unnamed: 13    0\n",
       "Unnamed: 14    0\n",
       "dtype: int64"
      ]
     },
     "execution_count": 10,
     "metadata": {},
     "output_type": "execute_result"
    }
   ],
   "source": [
    "df.isna().sum()"
   ]
  },
  {
   "cell_type": "code",
   "execution_count": 11,
   "id": "87226819",
   "metadata": {},
   "outputs": [],
   "source": [
    "x = df.drop(['Unnamed: 1', 'Unnamed: 2', 'Unnamed: 3', 'Unnamed: 14'], axis = 1)"
   ]
  },
  {
   "cell_type": "code",
   "execution_count": 12,
   "id": "960f8529",
   "metadata": {},
   "outputs": [
    {
     "data": {
      "text/plain": [
       "Unnamed: 0     0\n",
       "Unnamed: 4     0\n",
       "Unnamed: 5     0\n",
       "Unnamed: 6     0\n",
       "Unnamed: 7     0\n",
       "Unnamed: 8     0\n",
       "Unnamed: 9     0\n",
       "Unnamed: 10    0\n",
       "Unnamed: 11    0\n",
       "Unnamed: 12    0\n",
       "Unnamed: 13    0\n",
       "dtype: int64"
      ]
     },
     "execution_count": 12,
     "metadata": {},
     "output_type": "execute_result"
    }
   ],
   "source": [
    "x.isnull().sum()"
   ]
  },
  {
   "cell_type": "code",
   "execution_count": 13,
   "id": "2f3d34bc",
   "metadata": {},
   "outputs": [
    {
     "data": {
      "text/html": [
       "<div>\n",
       "<style scoped>\n",
       "    .dataframe tbody tr th:only-of-type {\n",
       "        vertical-align: middle;\n",
       "    }\n",
       "\n",
       "    .dataframe tbody tr th {\n",
       "        vertical-align: top;\n",
       "    }\n",
       "\n",
       "    .dataframe thead th {\n",
       "        text-align: right;\n",
       "    }\n",
       "</style>\n",
       "<table border=\"1\" class=\"dataframe\">\n",
       "  <thead>\n",
       "    <tr style=\"text-align: right;\">\n",
       "      <th></th>\n",
       "      <th>Unnamed: 0</th>\n",
       "      <th>Unnamed: 4</th>\n",
       "      <th>Unnamed: 5</th>\n",
       "      <th>Unnamed: 6</th>\n",
       "      <th>Unnamed: 7</th>\n",
       "      <th>Unnamed: 8</th>\n",
       "      <th>Unnamed: 9</th>\n",
       "      <th>Unnamed: 10</th>\n",
       "      <th>Unnamed: 11</th>\n",
       "      <th>Unnamed: 12</th>\n",
       "      <th>Unnamed: 13</th>\n",
       "    </tr>\n",
       "  </thead>\n",
       "  <tbody>\n",
       "    <tr>\n",
       "      <th>0</th>\n",
       "      <td>Sl No</td>\n",
       "      <td>P1</td>\n",
       "      <td>C1</td>\n",
       "      <td>P2</td>\n",
       "      <td>C2</td>\n",
       "      <td>P3</td>\n",
       "      <td>C3</td>\n",
       "      <td>R1</td>\n",
       "      <td>T1</td>\n",
       "      <td>P3T</td>\n",
       "      <td>Total</td>\n",
       "    </tr>\n",
       "    <tr>\n",
       "      <th>1</th>\n",
       "      <td>1</td>\n",
       "      <td>78</td>\n",
       "      <td>15.6</td>\n",
       "      <td>85</td>\n",
       "      <td>34</td>\n",
       "      <td>93</td>\n",
       "      <td>18.6</td>\n",
       "      <td>13</td>\n",
       "      <td>4</td>\n",
       "      <td>35.6</td>\n",
       "      <td>85.2</td>\n",
       "    </tr>\n",
       "    <tr>\n",
       "      <th>2</th>\n",
       "      <td>2</td>\n",
       "      <td>84</td>\n",
       "      <td>16.8</td>\n",
       "      <td>82</td>\n",
       "      <td>32.8</td>\n",
       "      <td>77</td>\n",
       "      <td>15.4</td>\n",
       "      <td>15</td>\n",
       "      <td>5</td>\n",
       "      <td>35.4</td>\n",
       "      <td>85</td>\n",
       "    </tr>\n",
       "    <tr>\n",
       "      <th>3</th>\n",
       "      <td>3</td>\n",
       "      <td>84</td>\n",
       "      <td>16.8</td>\n",
       "      <td>82</td>\n",
       "      <td>32.8</td>\n",
       "      <td>88</td>\n",
       "      <td>17.6</td>\n",
       "      <td>13</td>\n",
       "      <td>1</td>\n",
       "      <td>31.6</td>\n",
       "      <td>81.2</td>\n",
       "    </tr>\n",
       "    <tr>\n",
       "      <th>4</th>\n",
       "      <td>4</td>\n",
       "      <td>88</td>\n",
       "      <td>17.6</td>\n",
       "      <td>85</td>\n",
       "      <td>34</td>\n",
       "      <td>96</td>\n",
       "      <td>19.2</td>\n",
       "      <td>13</td>\n",
       "      <td>4</td>\n",
       "      <td>36.2</td>\n",
       "      <td>87.8</td>\n",
       "    </tr>\n",
       "    <tr>\n",
       "      <th>...</th>\n",
       "      <td>...</td>\n",
       "      <td>...</td>\n",
       "      <td>...</td>\n",
       "      <td>...</td>\n",
       "      <td>...</td>\n",
       "      <td>...</td>\n",
       "      <td>...</td>\n",
       "      <td>...</td>\n",
       "      <td>...</td>\n",
       "      <td>...</td>\n",
       "      <td>...</td>\n",
       "    </tr>\n",
       "    <tr>\n",
       "      <th>111</th>\n",
       "      <td>112</td>\n",
       "      <td>70</td>\n",
       "      <td>14</td>\n",
       "      <td>76</td>\n",
       "      <td>30.4</td>\n",
       "      <td>78</td>\n",
       "      <td>15.6</td>\n",
       "      <td>12</td>\n",
       "      <td>4</td>\n",
       "      <td>31.6</td>\n",
       "      <td>76</td>\n",
       "    </tr>\n",
       "    <tr>\n",
       "      <th>113</th>\n",
       "      <td>114</td>\n",
       "      <td>92</td>\n",
       "      <td>18.4</td>\n",
       "      <td>90</td>\n",
       "      <td>36</td>\n",
       "      <td>94</td>\n",
       "      <td>18.8</td>\n",
       "      <td>13</td>\n",
       "      <td>4</td>\n",
       "      <td>35.8</td>\n",
       "      <td>90.2</td>\n",
       "    </tr>\n",
       "    <tr>\n",
       "      <th>114</th>\n",
       "      <td>115</td>\n",
       "      <td>100</td>\n",
       "      <td>20</td>\n",
       "      <td>100</td>\n",
       "      <td>40</td>\n",
       "      <td>100</td>\n",
       "      <td>20</td>\n",
       "      <td>15</td>\n",
       "      <td>5</td>\n",
       "      <td>40</td>\n",
       "      <td>100</td>\n",
       "    </tr>\n",
       "    <tr>\n",
       "      <th>115</th>\n",
       "      <td>116</td>\n",
       "      <td>87</td>\n",
       "      <td>17.4</td>\n",
       "      <td>92</td>\n",
       "      <td>36.8</td>\n",
       "      <td>92</td>\n",
       "      <td>18.4</td>\n",
       "      <td>14</td>\n",
       "      <td>5</td>\n",
       "      <td>37.4</td>\n",
       "      <td>91.6</td>\n",
       "    </tr>\n",
       "    <tr>\n",
       "      <th>117</th>\n",
       "      <td>118</td>\n",
       "      <td>77</td>\n",
       "      <td>15.4</td>\n",
       "      <td>80</td>\n",
       "      <td>32</td>\n",
       "      <td>81</td>\n",
       "      <td>16.2</td>\n",
       "      <td>12</td>\n",
       "      <td>0</td>\n",
       "      <td>28.2</td>\n",
       "      <td>75.6</td>\n",
       "    </tr>\n",
       "  </tbody>\n",
       "</table>\n",
       "<p>110 rows × 11 columns</p>\n",
       "</div>"
      ],
      "text/plain": [
       "    Unnamed: 0 Unnamed: 4 Unnamed: 5 Unnamed: 6 Unnamed: 7 Unnamed: 8  \\\n",
       "0       Sl No         P1          C1         P2         C2         P3   \n",
       "1            1         78       15.6         85         34         93   \n",
       "2            2         84       16.8         82       32.8         77   \n",
       "3            3         84       16.8         82       32.8         88   \n",
       "4            4         88       17.6         85         34         96   \n",
       "..         ...        ...        ...        ...        ...        ...   \n",
       "111        112         70         14         76       30.4         78   \n",
       "113        114         92       18.4         90         36         94   \n",
       "114        115        100         20        100         40        100   \n",
       "115        116         87       17.4         92       36.8         92   \n",
       "117        118         77       15.4         80         32         81   \n",
       "\n",
       "    Unnamed: 9 Unnamed: 10 Unnamed: 11 Unnamed: 12 Unnamed: 13  \n",
       "0           C3          R1          T1         P3T      Total   \n",
       "1         18.6          13           4        35.6        85.2  \n",
       "2         15.4          15           5        35.4          85  \n",
       "3         17.6          13           1        31.6        81.2  \n",
       "4         19.2          13           4        36.2        87.8  \n",
       "..         ...         ...         ...         ...         ...  \n",
       "111       15.6          12           4        31.6          76  \n",
       "113       18.8          13           4        35.8        90.2  \n",
       "114         20          15           5          40         100  \n",
       "115       18.4          14           5        37.4        91.6  \n",
       "117       16.2          12           0        28.2        75.6  \n",
       "\n",
       "[110 rows x 11 columns]"
      ]
     },
     "execution_count": 13,
     "metadata": {},
     "output_type": "execute_result"
    }
   ],
   "source": [
    "y = df['Unnamed: 14'];\n",
    "x"
   ]
  },
  {
   "cell_type": "code",
   "execution_count": 14,
   "id": "557e9095",
   "metadata": {},
   "outputs": [
    {
     "data": {
      "text/plain": [
       "0      Grade\n",
       "1          A\n",
       "2          A\n",
       "3          A\n",
       "4          A\n",
       "       ...  \n",
       "111        B\n",
       "113        S\n",
       "114        S\n",
       "115        S\n",
       "117        B\n",
       "Name: Unnamed: 14, Length: 110, dtype: object"
      ]
     },
     "execution_count": 14,
     "metadata": {},
     "output_type": "execute_result"
    }
   ],
   "source": [
    "y"
   ]
  },
  {
   "cell_type": "code",
   "execution_count": 15,
   "id": "7e0c9fdc",
   "metadata": {},
   "outputs": [],
   "source": [
    "# Train the data\n",
    "x_train, x_test, y_train, y_test = train_test_split(x, y, test_size=0.2, random_state=42)"
   ]
  },
  {
   "cell_type": "code",
   "execution_count": 16,
   "id": "53a859bb",
   "metadata": {},
   "outputs": [
    {
     "data": {
      "text/plain": [
       "0"
      ]
     },
     "execution_count": 16,
     "metadata": {},
     "output_type": "execute_result"
    }
   ],
   "source": [
    "y_train.isna().sum()"
   ]
  },
  {
   "cell_type": "code",
   "execution_count": 17,
   "id": "58f42f88",
   "metadata": {},
   "outputs": [],
   "source": [
    "# Random forest classifier\n",
    "rfc = RandomForestClassifier(n_estimators=10, random_state=42)"
   ]
  },
  {
   "cell_type": "code",
   "execution_count": 18,
   "id": "4ebc4096",
   "metadata": {},
   "outputs": [
    {
     "data": {
      "text/html": [
       "<style>#sk-container-id-1 {color: black;}#sk-container-id-1 pre{padding: 0;}#sk-container-id-1 div.sk-toggleable {background-color: white;}#sk-container-id-1 label.sk-toggleable__label {cursor: pointer;display: block;width: 100%;margin-bottom: 0;padding: 0.3em;box-sizing: border-box;text-align: center;}#sk-container-id-1 label.sk-toggleable__label-arrow:before {content: \"▸\";float: left;margin-right: 0.25em;color: #696969;}#sk-container-id-1 label.sk-toggleable__label-arrow:hover:before {color: black;}#sk-container-id-1 div.sk-estimator:hover label.sk-toggleable__label-arrow:before {color: black;}#sk-container-id-1 div.sk-toggleable__content {max-height: 0;max-width: 0;overflow: hidden;text-align: left;background-color: #f0f8ff;}#sk-container-id-1 div.sk-toggleable__content pre {margin: 0.2em;color: black;border-radius: 0.25em;background-color: #f0f8ff;}#sk-container-id-1 input.sk-toggleable__control:checked~div.sk-toggleable__content {max-height: 200px;max-width: 100%;overflow: auto;}#sk-container-id-1 input.sk-toggleable__control:checked~label.sk-toggleable__label-arrow:before {content: \"▾\";}#sk-container-id-1 div.sk-estimator input.sk-toggleable__control:checked~label.sk-toggleable__label {background-color: #d4ebff;}#sk-container-id-1 div.sk-label input.sk-toggleable__control:checked~label.sk-toggleable__label {background-color: #d4ebff;}#sk-container-id-1 input.sk-hidden--visually {border: 0;clip: rect(1px 1px 1px 1px);clip: rect(1px, 1px, 1px, 1px);height: 1px;margin: -1px;overflow: hidden;padding: 0;position: absolute;width: 1px;}#sk-container-id-1 div.sk-estimator {font-family: monospace;background-color: #f0f8ff;border: 1px dotted black;border-radius: 0.25em;box-sizing: border-box;margin-bottom: 0.5em;}#sk-container-id-1 div.sk-estimator:hover {background-color: #d4ebff;}#sk-container-id-1 div.sk-parallel-item::after {content: \"\";width: 100%;border-bottom: 1px solid gray;flex-grow: 1;}#sk-container-id-1 div.sk-label:hover label.sk-toggleable__label {background-color: #d4ebff;}#sk-container-id-1 div.sk-serial::before {content: \"\";position: absolute;border-left: 1px solid gray;box-sizing: border-box;top: 0;bottom: 0;left: 50%;z-index: 0;}#sk-container-id-1 div.sk-serial {display: flex;flex-direction: column;align-items: center;background-color: white;padding-right: 0.2em;padding-left: 0.2em;position: relative;}#sk-container-id-1 div.sk-item {position: relative;z-index: 1;}#sk-container-id-1 div.sk-parallel {display: flex;align-items: stretch;justify-content: center;background-color: white;position: relative;}#sk-container-id-1 div.sk-item::before, #sk-container-id-1 div.sk-parallel-item::before {content: \"\";position: absolute;border-left: 1px solid gray;box-sizing: border-box;top: 0;bottom: 0;left: 50%;z-index: -1;}#sk-container-id-1 div.sk-parallel-item {display: flex;flex-direction: column;z-index: 1;position: relative;background-color: white;}#sk-container-id-1 div.sk-parallel-item:first-child::after {align-self: flex-end;width: 50%;}#sk-container-id-1 div.sk-parallel-item:last-child::after {align-self: flex-start;width: 50%;}#sk-container-id-1 div.sk-parallel-item:only-child::after {width: 0;}#sk-container-id-1 div.sk-dashed-wrapped {border: 1px dashed gray;margin: 0 0.4em 0.5em 0.4em;box-sizing: border-box;padding-bottom: 0.4em;background-color: white;}#sk-container-id-1 div.sk-label label {font-family: monospace;font-weight: bold;display: inline-block;line-height: 1.2em;}#sk-container-id-1 div.sk-label-container {text-align: center;}#sk-container-id-1 div.sk-container {/* jupyter's `normalize.less` sets `[hidden] { display: none; }` but bootstrap.min.css set `[hidden] { display: none !important; }` so we also need the `!important` here to be able to override the default hidden behavior on the sphinx rendered scikit-learn.org. See: https://github.com/scikit-learn/scikit-learn/issues/21755 */display: inline-block !important;position: relative;}#sk-container-id-1 div.sk-text-repr-fallback {display: none;}</style><div id=\"sk-container-id-1\" class=\"sk-top-container\"><div class=\"sk-text-repr-fallback\"><pre>RandomForestClassifier(n_estimators=10, random_state=42)</pre><b>In a Jupyter environment, please rerun this cell to show the HTML representation or trust the notebook. <br />On GitHub, the HTML representation is unable to render, please try loading this page with nbviewer.org.</b></div><div class=\"sk-container\" hidden><div class=\"sk-item\"><div class=\"sk-estimator sk-toggleable\"><input class=\"sk-toggleable__control sk-hidden--visually\" id=\"sk-estimator-id-1\" type=\"checkbox\" checked><label for=\"sk-estimator-id-1\" class=\"sk-toggleable__label sk-toggleable__label-arrow\">RandomForestClassifier</label><div class=\"sk-toggleable__content\"><pre>RandomForestClassifier(n_estimators=10, random_state=42)</pre></div></div></div></div></div>"
      ],
      "text/plain": [
       "RandomForestClassifier(n_estimators=10, random_state=42)"
      ]
     },
     "execution_count": 18,
     "metadata": {},
     "output_type": "execute_result"
    }
   ],
   "source": [
    "# Fit the data\n",
    "rfc.fit(x_train, y_train)"
   ]
  },
  {
   "cell_type": "code",
   "execution_count": 19,
   "id": "640d9425",
   "metadata": {},
   "outputs": [
    {
     "name": "stdout",
     "output_type": "stream",
     "text": [
      "0.9886363636363636\n"
     ]
    }
   ],
   "source": [
    "# Predict accuracy score\n",
    "y_pred = rfc.predict(x_train)\n",
    "a = accuracy_score(y_train, y_pred)\n",
    "print(a)"
   ]
  },
  {
   "cell_type": "code",
   "execution_count": 20,
   "id": "4355419c",
   "metadata": {},
   "outputs": [
    {
     "data": {
      "text/plain": [
       "'              precision    recall  f1-score   support\\n\\n           A       1.00      0.97      0.99        35\\n           B       0.94      1.00      0.97        16\\n           C       1.00      1.00      1.00         3\\n           S       1.00      1.00      1.00        34\\n\\n    accuracy                           0.99        88\\n   macro avg       0.99      0.99      0.99        88\\nweighted avg       0.99      0.99      0.99        88\\n'"
      ]
     },
     "execution_count": 20,
     "metadata": {},
     "output_type": "execute_result"
    }
   ],
   "source": [
    "# Classification report\n",
    "c= classification_report(y_train, y_pred)\n",
    "c"
   ]
  },
  {
   "cell_type": "code",
   "execution_count": 21,
   "id": "a2d0cb32",
   "metadata": {},
   "outputs": [
    {
     "data": {
      "text/plain": [
       "array(['A', 'B', 'A', 'S', 'S', 'C', 'S', 'S', 'A', 'B', 'B', 'A', 'S',\n",
       "       'S', 'S', 'B', 'A', 'S', 'S', 'A', 'A', 'A', 'S', 'A', 'S', 'S',\n",
       "       'A', 'S', 'S', 'B', 'B', 'A', 'A', 'S', 'B', 'A', 'S', 'A', 'S',\n",
       "       'C', 'A', 'A', 'A', 'A', 'S', 'B', 'B', 'A', 'S', 'A', 'A', 'B',\n",
       "       'S', 'S', 'S', 'S', 'B', 'A', 'S', 'B', 'S', 'S', 'S', 'S', 'S',\n",
       "       'A', 'S', 'A', 'A', 'A', 'A', 'B', 'B', 'A', 'A', 'S', 'S', 'C',\n",
       "       'A', 'B', 'B', 'A', 'A', 'S', 'S', 'A', 'A', 'B'], dtype=object)"
      ]
     },
     "execution_count": 21,
     "metadata": {},
     "output_type": "execute_result"
    }
   ],
   "source": [
    "y_pred"
   ]
  },
  {
   "cell_type": "code",
   "execution_count": 22,
   "id": "de5ea4ab",
   "metadata": {},
   "outputs": [
    {
     "data": {
      "text/plain": [
       "<Axes: >"
      ]
     },
     "execution_count": 22,
     "metadata": {},
     "output_type": "execute_result"
    },
    {
     "data": {
      "image/png": "[encoded data removed]",
      "text/plain": [
       "<Figure size 640x480 with 2 Axes>"
      ]
     },
     "metadata": {},
     "output_type": "display_data"
    }
   ],
   "source": [
    "# Confusion matrix\n",
    "cm = confusion_matrix(y_train, y_pred)\n",
    "sns.heatmap(cm, annot=True)"
   ]
  },
  {
   "cell_type": "code",
   "execution_count": 23,
   "id": "39d832e0",
   "metadata": {},
   "outputs": [
    {
     "name": "stdout",
     "output_type": "stream",
     "text": [
      "['A']\n"
     ]
    },
    {
     "name": "stderr",
     "output_type": "stream",
     "text": [
      "C:\\Users\\ullas_\\AppData\\Local\\Programs\\Python\\Python311\\Lib\\site-packages\\sklearn\\base.py:464: UserWarning: X does not have valid feature names, but RandomForestClassifier was fitted with feature names\n",
      "  warnings.warn(\n"
     ]
    }
   ],
   "source": [
    "# Predict the values based on the data set\n",
    "res = rfc.predict([[44, 44.8, 79.0, 33.6, 66, 17.2, 44, 99, 33, 44, 33]])\n",
    "print(res)"
   ]
  },
  {
   "cell_type": "code",
   "execution_count": 24,
   "id": "309b9354",
   "metadata": {},
   "outputs": [
    {
     "name": "stdout",
     "output_type": "stream",
     "text": [
      "['C']\n"
     ]
    },
    {
     "name": "stderr",
     "output_type": "stream",
     "text": [
      "C:\\Users\\ullas_\\AppData\\Local\\Programs\\Python\\Python311\\Lib\\site-packages\\sklearn\\base.py:464: UserWarning: X does not have valid feature names, but RandomForestClassifier was fitted with feature names\n",
      "  warnings.warn(\n"
     ]
    }
   ],
   "source": [
    "res = rfc.predict([[4, 4, 7, 3, 6, 1, 4, 9, 3, 4, 3]])\n",
    "print(res)"
   ]
  },
  {
   "cell_type": "code",
   "execution_count": 25,
   "id": "af5ab4d8",
   "metadata": {},
   "outputs": [
    {
     "name": "stdout",
     "output_type": "stream",
     "text": [
      "['S']\n"
     ]
    },
    {
     "name": "stderr",
     "output_type": "stream",
     "text": [
      "C:\\Users\\ullas_\\AppData\\Local\\Programs\\Python\\Python311\\Lib\\site-packages\\sklearn\\base.py:464: UserWarning: X does not have valid feature names, but RandomForestClassifier was fitted with feature names\n",
      "  warnings.warn(\n"
     ]
    }
   ],
   "source": [
    "res = rfc.predict([[22, 14, 17, 23, 16, 11, 24, 19, 23, 14, 13]])\n",
    "print(res)"
   ]
  },
  {
   "cell_type": "code",
   "execution_count": null,
   "id": "fc9b9dde",
   "metadata": {},
   "outputs": [],
   "source": []
  }
 ],
 "metadata": {
  "kernelspec": {
   "display_name": "Python 3 (ipykernel)",
   "language": "python",
   "name": "python3"
  },
  "language_info": {
   "codemirror_mode": {
    "name": "ipython",
    "version": 3
   },
   "file_extension": ".py",
   "mimetype": "text/x-python",
   "name": "python",
   "nbconvert_exporter": "python",
   "pygments_lexer": "ipython3",
   "version": "3.11.2"
  }
 },
 "nbformat": 4,
 "nbformat_minor": 5
}
